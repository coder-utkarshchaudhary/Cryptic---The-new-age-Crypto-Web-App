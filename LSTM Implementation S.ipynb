{
 "cells": [
  {
   "cell_type": "markdown",
   "metadata": {},
   "source": [
    "## **Importing all dependencies**"
   ]
  },
  {
   "cell_type": "code",
   "execution_count": 7,
   "metadata": {},
   "outputs": [],
   "source": [
    "import pandas as pd\n",
    "import numpy as np\n",
    "import os\n",
    "\n",
    "import tensorflow as tf\n",
    "\n",
    "from tensorflow.keras.models import Sequential\n",
    "from tensorflow.keras.losses import mae, mse\n",
    "from tensorflow.keras.layers import Dense, Dropout, LSTM\n",
    "from tensorflow.keras.optimizers import Adam"
   ]
  },
  {
   "cell_type": "markdown",
   "metadata": {},
   "source": [
    "## **Changing the directory**"
   ]
  },
  {
   "cell_type": "code",
   "execution_count": 6,
   "metadata": {},
   "outputs": [],
   "source": [
    "os.chdir(r\"filterseps\")"
   ]
  },
  {
   "cell_type": "markdown",
   "metadata": {},
   "source": [
    "## **Defining the model**"
   ]
  },
  {
   "cell_type": "code",
   "execution_count": null,
   "metadata": {},
   "outputs": [],
   "source": [
    "model = Sequential(\n",
    "    [\n",
    "        # LSTM(256, activation=\"relu\", input_shape=(X.shape[1], X.shape[2]), return_sequences=True),\n",
    "        LSTM(128, activation=\"relu\", return_sequences=True),\n",
    "        LSTM(64, activation=\"relu\", return_sequences=True),\n",
    "        LSTM(32, activation='relu'),\n",
    "        Dropout(0.2),\n",
    "        Dense(16, activation=\"relu\"),\n",
    "        Dense(1)\n",
    "    ]\n",
    ")"
   ]
  },
  {
   "cell_type": "markdown",
   "metadata": {},
   "source": [
    "## **Prediction Pipeline - For Loop Method**"
   ]
  },
  {
   "cell_type": "code",
   "execution_count": null,
   "metadata": {},
   "outputs": [],
   "source": [
    "predictionDict = {}\n",
    "for k in os.listdir():\n",
    "    print(f\"File No. {k[:-4]}\\n\")\n",
    "    df = pd.read_csv(k)\n",
    "    df = df.drop(['Symbol'], axis=1)\n",
    "    test = np.array([df[int(0.15*(df.shape[0]-1)):].values])\n",
    "    df = df[:int(0.15*(df.shape[0]-1))]\n",
    "    # Making the dataset for each dataframe\n",
    "    X, y = [], []\n",
    "    slidingWindow = 1\n",
    "    completeSampleSize = 50\n",
    "\n",
    "    for i in range(0, df.shape[0]-completeSampleSize, slidingWindow):\n",
    "        X.append(df.iloc[i:i+30, :].values)\n",
    "        y.append(df.iloc[i+30:i+50, 0].values)\n",
    "\n",
    "    X = np.array(X)\n",
    "    y = np.array(y)\n",
    "\n",
    "    print(test)\n",
    "\n",
    "    print(f\"X ki shape: {X.shape}\\t\\t y ki shape: {y.shape}\")\n",
    "    # Training\n",
    "    model.compile(loss='mae', optimizer=Adam(0.001))\n",
    "    model.fit(X, y, epochs=50, validation_split=0.15, callbacks=[tf.keras.callbacks.EarlyStopping(monitor='val_loss', patience=3, restore_best_weights=True)])\n",
    "    predictions = model.predict(test)\n",
    "    predictionDict[k] = predictions\n",
    "    print(predictions)\n",
    "    print('-'*50)"
   ]
  },
  {
   "cell_type": "markdown",
   "metadata": {},
   "source": [
    "## **Calculating the %age increase/decrease**"
   ]
  },
  {
   "cell_type": "code",
   "execution_count": null,
   "metadata": {},
   "outputs": [],
   "source": [
    "differenceDict = {}\n",
    "for k in os.listdir():\n",
    "    df = pd.read_csv(k)\n",
    "    originalValue = df.loc[0,'Price']\n",
    "    newValue = predictionDict[k]\n",
    "\n",
    "    change = ((newValue-originalValue)*100)/originalValue\n",
    "\n",
    "    differenceDict[k] = change\n",
    "\n",
    "changeDataFrame = pd.DataFrame(differenceDict)"
   ]
  }
 ],
 "metadata": {
  "kernelspec": {
   "display_name": "Python 3",
   "language": "python",
   "name": "python3"
  },
  "language_info": {
   "codemirror_mode": {
    "name": "ipython",
    "version": 3
   },
   "file_extension": ".py",
   "mimetype": "text/x-python",
   "name": "python",
   "nbconvert_exporter": "python",
   "pygments_lexer": "ipython3",
   "version": "3.10.11"
  }
 },
 "nbformat": 4,
 "nbformat_minor": 2
}
