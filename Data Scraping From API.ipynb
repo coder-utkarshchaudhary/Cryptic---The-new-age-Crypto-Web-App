{
 "cells": [
  {
   "cell_type": "code",
   "execution_count": null,
   "metadata": {},
   "outputs": [],
   "source": [
    "%pip install requests"
   ]
  },
  {
   "cell_type": "code",
   "execution_count": 145,
   "metadata": {},
   "outputs": [],
   "source": [
    "import requests as r\n",
    "import time\n",
    "import pandas as pd\n",
    "import numpy as np"
   ]
  },
  {
   "cell_type": "code",
   "execution_count": null,
   "metadata": {},
   "outputs": [],
   "source": [
    "baseURL = r\"https://api.coingecko.com/api/v3/\"\n",
    "r.get(baseURL+r\"ping\")"
   ]
  },
  {
   "cell_type": "code",
   "execution_count": 168,
   "metadata": {},
   "outputs": [],
   "source": [
    "file = r.get(baseURL+r\"coins/list\").json()\n",
    "dataf = pd.DataFrame(file)\n",
    "dataf"
   ]
  },
  {
   "cell_type": "code",
   "execution_count": 171,
   "metadata": {},
   "outputs": [],
   "source": [
    "biggerDataFrame = pd.DataFrame(columns=[\"Date\", \"Symbol\", \"Price\",\"MarketCap\",\"Volume\"])"
   ]
  },
  {
   "cell_type": "code",
   "execution_count": 172,
   "metadata": {},
   "outputs": [],
   "source": [
    "def getDfPrices(baseData, days):\n",
    "    global biggerDataFrame\n",
    "    try:\n",
    "        for i in range(baseData.shape[0]):\n",
    "            id = baseData.loc[i, 'id']\n",
    "            time.sleep(10)\n",
    "            req = r.get(baseURL+f\"coins/{id}/market_chart\",params={'id': {id},'vs_currency':'usd','days':str(days)})\n",
    "            print(req.status_code)\n",
    "            data = req.json() if req.status_code==200 else {}\n",
    "            print(data)\n",
    "            temp = str(baseData.loc[i, 'symbol'])\n",
    "\n",
    "            p =  [[x[0][0]//1000,x[0][1],x[1][1],x[2][1],temp] for x in zip(*data.values())]\n",
    "            df = pd.DataFrame(p,columns=[\"Date\", \"Symbol\", \"Price\",\"MarketCap\",\"Volume\"])\n",
    "            df[\"Date\"] = pd.to_datetime(df[\"Date\"], unit='s')\n",
    "            biggerDataFrame = pd.concat([biggerDataFrame, df], axis=0)\n",
    "    except : pass\n",
    "    return biggerDataFrame"
   ]
  },
  {
   "cell_type": "code",
   "execution_count": null,
   "metadata": {},
   "outputs": [],
   "source": [
    "mainDataFrame = getDfPrices(dataf, 90)"
   ]
  },
  {
   "cell_type": "code",
   "execution_count": null,
   "metadata": {},
   "outputs": [],
   "source": [
    "mainDataFrame"
   ]
  },
  {
   "cell_type": "code",
   "execution_count": null,
   "metadata": {},
   "outputs": [],
   "source": [
    "%pip install openpyxl"
   ]
  },
  {
   "cell_type": "code",
   "execution_count": 185,
   "metadata": {},
   "outputs": [],
   "source": [
    "mainDataFrame.to_csv(r\"E:\\Execute 3.0 - E-Summit 2024\\DataFinal.csv\", index=False)\n",
    "# mainDataFrame.to_excel(r\"E:\\Execute 3.0 - E-Summit 2024\\DataExcel.xlsx\")"
   ]
  },
  {
   "cell_type": "code",
   "execution_count": null,
   "metadata": {},
   "outputs": [],
   "source": [
    "dtf = pd.read_csv(\"DataFinal.csv\")\n",
    "dtf[\"Symbol\"] , dtf[\"Price\"], dtf[\"MarketCap\"], dtf[\"Volume\"] = dtf[\"Volume\"],dtf[\"Symbol\"] , dtf[\"Price\"], dtf[\"MarketCap\"]\n",
    "dtf"
   ]
  },
  {
   "cell_type": "code",
   "execution_count": 189,
   "metadata": {},
   "outputs": [],
   "source": [
    "dtf.to_csv(r\"E:\\Execute 3.0 - E-Summit 2024\\DataFinal.csv\", index=False)"
   ]
  }
 ],
 "metadata": {
  "kernelspec": {
   "display_name": "Python 3",
   "language": "python",
   "name": "python3"
  },
  "language_info": {
   "codemirror_mode": {
    "name": "ipython",
    "version": 3
   },
   "file_extension": ".py",
   "mimetype": "text/x-python",
   "name": "python",
   "nbconvert_exporter": "python",
   "pygments_lexer": "ipython3",
   "version": "3.10.11"
  }
 },
 "nbformat": 4,
 "nbformat_minor": 2
}
